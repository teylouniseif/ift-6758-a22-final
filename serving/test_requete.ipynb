{
 "cells": [
  {
   "cell_type": "markdown",
   "metadata": {},
   "source": [
    "### 1.Tester la methode download_registry_model"
   ]
  },
  {
   "cell_type": "code",
   "execution_count": 4,
   "metadata": {},
   "outputs": [
    {
     "name": "stdout",
     "output_type": "stream",
     "text": [
      "<bound method Response.json of <Response [500]>>\n"
     ]
    }
   ],
   "source": [
    "import requests\n",
    "js_download =  {\n",
    "            'workspace': 'teylouniseifu',\n",
    "            'model': 'xgboost-model-milestone3',\n",
    "            'version': '1.0.0' \n",
    "        }\n",
    "\n",
    "r = requests.post(\"http://127.0.0.1:5000//download_registry_model\", json=js_download )\n",
    "print(r.json)\n"
   ]
  },
  {
   "cell_type": "markdown",
   "metadata": {},
   "source": [
    "### 2.Tester la methode predict"
   ]
  },
  {
   "cell_type": "code",
   "execution_count": 2,
   "metadata": {},
   "outputs": [
    {
     "name": "stdout",
     "output_type": "stream",
     "text": [
      "[0, 0, 0, 0, 0]\n"
     ]
    }
   ],
   "source": [
    "import json\n",
    "import pandas as pd\n",
    "import requests\n",
    "# with open('data.json') as f:\n",
    "#     data = json.load(f)\n",
    "# df = pd.read_json('data.json')\n",
    "# js=json.loads(df.to_json())\n",
    "\n",
    "#Tester avec des mock données\n",
    "js = {\n",
    "\"Secondes_jeu\":{\"185963\":234.6,\"286835\":1698.6,\"300289\":432.6,\"9512\":2397.0,\"188403\":1311.6},\n",
    "\"Period_Number\":{\"185963\":1,\"286835\":2,\"300289\":1,\"9512\":2,\"188403\":2},\n",
    "\"X_Coordinate\":{\"185963\":55,\"286835\":-87,\"300289\":-76,\"9512\":77,\"188403\":-53},\n",
    "\"Y_Coordinate\":{\"185963\":31,\"286835\":-22,\"300289\":29,\"9512\":-6,\"188403\":16},\n",
    "\"Distance\":{\"185963\":46.7546789102,\"286835\":22.2036033112,\"300289\":168.514094366,\"9512\":14.3178210633,\"188403\":40.3112887415},\n",
    "\"Angle\":{\"185963\":-41.5317707411,\"286835\":-82.2348339816,\"300289\":-9.9094996999,\"9512\":24.7751405688,\"188403\":23.3852210572},\n",
    "\"Shot_Type\":{\"185963\":\"Snap Shot\",\"286835\":\"Wrist Shot\",\"300289\":\"Wrist Shot\",\"9512\":\"Snap Shot\",\"188403\":\"Wrist Shot\"},\n",
    "\"Last_event_type\":{\"185963\":\"Giveaway\",\"286835\":\"Missed Shot\",\"300289\":\"Faceoff\",\"9512\":\"Blocked Shot\",\"188403\":\"Faceoff\"},\n",
    "\"X_last_event\":{\"185963\":-43,\"286835\":-72,\"300289\":-69,\"9512\":63,\"188403\":20},\n",
    "\"Y_last_event\":{\"185963\":37,\"286835\":-9,\"300289\":22,\"9512\":-11,\"188403\":22},\n",
    "\"Sec_from_lastEvent\":{\"185963\":7.8,\"286835\":27.6,\"300289\":33.0,\"9512\":2.4,\"188403\":13.8},\n",
    "\"Dis_from_lastEvent\":{\"185963\":98.1835016691,\"286835\":19.8494332413,\"300289\":9.8994949366,\"9512\":14.8660687473,\"188403\":73.2461603089},\n",
    "\"Rebond\":{\"185963\":False,\"286835\":False,\"300289\":False,\"9512\":False,\"188403\":False},\n",
    "\"Angle_change\":{\"185963\":0,\"286835\":0,\"300289\":0,\"9512\":0,\"188403\":0},\n",
    "\"Vitesse\":{\"185963\":12.5876284191,\"286835\":0.7191823638,\"300289\":0.299984695,\"9512\":6.1941953114,\"188403\":5.307692776}\n",
    "}\n",
    "\n",
    "r = requests.post(\n",
    "\t\"http://127.0.0.1:5001//predict\", \n",
    "\tjson= js\n",
    ")\n",
    "print(r.json())\n"
   ]
  },
  {
   "cell_type": "markdown",
   "metadata": {},
   "source": [
    "### 3.Tester la methode log"
   ]
  },
  {
   "cell_type": "code",
   "execution_count": 14,
   "metadata": {},
   "outputs": [
    {
     "name": "stdout",
     "output_type": "stream",
     "text": [
      "['INFO:app:chager le modele par default: xgboost-model-milestone3', 'INFO:app:Le modèle est changé à: xgboost-model-milestone3', 'INFO:app:Le modèle est changé à: xgboost-model-milestone3', 'INFO:app:Les résultats des prédiction du modèle[0, 0, 0, 0, 0]', 'INFO:app:Les résultats des prédiction du modèle[0, 0, 0, 0, 0]']\n"
     ]
    }
   ],
   "source": [
    "r = requests.get(\"http://127.0.0.1:5000//logs\")\n",
    "print(r.json())"
   ]
  }
 ],
 "metadata": {
  "kernelspec": {
   "display_name": "Python 3 (ipykernel)",
   "language": "python",
   "name": "python3"
  },
  "language_info": {
   "codemirror_mode": {
    "name": "ipython",
    "version": 3
   },
   "file_extension": ".py",
   "mimetype": "text/x-python",
   "name": "python",
   "nbconvert_exporter": "python",
   "pygments_lexer": "ipython3",
   "version": "3.9.10 (v3.9.10:f2f3f53782, Jan 13 2022, 17:02:14) \n[Clang 6.0 (clang-600.0.57)]"
  },
  "vscode": {
   "interpreter": {
    "hash": "aee8b7b246df8f9039afb4144a1f6fd8d2ca17a180786b69acc140d282b71a49"
   }
  }
 },
 "nbformat": 4,
 "nbformat_minor": 4
}
